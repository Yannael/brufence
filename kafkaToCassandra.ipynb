{
 "cells": [
  {
   "cell_type": "code",
   "execution_count": 1,
   "metadata": {
    "collapsed": true
   },
   "outputs": [],
   "source": [
    "import os\n",
    "os.environ['PYSPARK_SUBMIT_ARGS'] = '--packages com.databricks:spark-csv_2.11:1.4.0,org.apache.spark:spark-streaming-kafka_2.11:1.6.1,com.datastax.spark:spark-cassandra-connector_2.11:1.6.0-M2 pyspark-shell'\n",
    "import time"
   ]
  },
  {
   "cell_type": "code",
   "execution_count": 108,
   "metadata": {
    "collapsed": false
   },
   "outputs": [],
   "source": [
    "from pyspark import SparkContext, SparkConf\n",
    "from pyspark.sql import SQLContext, Row\n",
    "#sc.stop()\n",
    "conf = SparkConf() \\\n",
    "    .setAppName(\"Kafka to Cassandra\") \\\n",
    "    .setMaster(\"local[4]\") \\\n",
    "    .set(\"spark.cassandra.connection.host\", \"localhost\")\n",
    "\n",
    "sc = SparkContext(conf=conf)"
   ]
  },
  {
   "cell_type": "code",
   "execution_count": 109,
   "metadata": {
    "collapsed": false
   },
   "outputs": [],
   "source": [
    "from pyspark.streaming import StreamingContext\n",
    "from pyspark.streaming.kafka import KafkaUtils"
   ]
  },
  {
   "cell_type": "code",
   "execution_count": 130,
   "metadata": {
    "collapsed": false
   },
   "outputs": [],
   "source": [
    "ssc.stop()\n",
    "sc.stop()\n",
    "sc = SparkContext(conf=conf)\n",
    "\n",
    "sqlContext=SQLContext(sc)\n",
    "ssc = StreamingContext(sc, 5)"
   ]
  },
  {
   "cell_type": "code",
   "execution_count": 131,
   "metadata": {
    "collapsed": false
   },
   "outputs": [],
   "source": [
    "def processRawTransaction(transaction):\n",
    "    (card_pan_id,term_miduid,term_mid,term_uid,term_mcc,term_country,tx_amount,\\\n",
    "    tx_datetime,tx_accepted,tx_ecom,tx_3d_secure,tx_emv,age,language,\\\n",
    "     gender,broker,card_brand,tx_fraud)\\\n",
    "    =transaction.split(',')\n",
    "    \n",
    "    transactionRow=Row(\\\n",
    "        card_pan_id=card_pan_id,\\\n",
    "        term_miduid=term_miduid,\\\n",
    "        term_mid=term_mid,\\\n",
    "        term_uid=term_uid,\\\n",
    "        term_mcc=term_mcc,\\\n",
    "        term_country=term_country,\\\n",
    "        tx_amount=tx_amount,\\\n",
    "        tx_datetime=tx_datetime,\\\n",
    "        tx_accepted=tx_accepted,\\\n",
    "        tx_ecom=tx_ecom,\\\n",
    "        tx_3d_secure=tx_3d_secure,\\\n",
    "        tx_emv=tx_emv,\\\n",
    "        age=age,\\\n",
    "        language=language,\\\n",
    "        gender=gender,\\\n",
    "        broker=broker,\\\n",
    "        card_brand=card_brand,\\\n",
    "        tx_fraud=tx_fraud\\\n",
    "       )\n",
    "    return transactionRow\n",
    "    "
   ]
  },
  {
   "cell_type": "code",
   "execution_count": 135,
   "metadata": {
    "collapsed": false
   },
   "outputs": [],
   "source": [
    "def saveToCassandra(rows):\n",
    "    if not rows.isEmpty(): \n",
    "        sqlContext.createDataFrame(rows).write\\\n",
    "        .format(\"org.apache.spark.sql.cassandra\")\\\n",
    "        .mode('append')\\\n",
    "        .options(table=\"rawdata\", keyspace=\"tx\")\\\n",
    "        .save()\n"
   ]
  },
  {
   "cell_type": "code",
   "execution_count": 133,
   "metadata": {
    "collapsed": false
   },
   "outputs": [],
   "source": [
    "kvs = KafkaUtils.createStream(ssc, \"127.0.0.1:2181\", \"spark-streaming-consumer\", {'test': 1})\n",
    "\n",
    "#Get raw data from transaction stream\n",
    "rawTransactionData = kvs.map(lambda x: x[1])\n",
    "\n",
    "#Convert raw data into typed Row objects\n",
    "transactionData=rawTransactionData.map(processRawTransaction)\n",
    "\n",
    "#Save rows to Cassandra\n",
    "transactionData.foreachRDD(saveToCassandra)\n",
    "\n",
    "ssc.start()"
   ]
  },
  {
   "cell_type": "code",
   "execution_count": 129,
   "metadata": {
    "collapsed": false
   },
   "outputs": [],
   "source": [
    "ssc.stop()"
   ]
  },
  {
   "cell_type": "code",
   "execution_count": null,
   "metadata": {
    "collapsed": true
   },
   "outputs": [],
   "source": []
  }
 ],
 "metadata": {
  "kernelspec": {
   "display_name": "Python 2",
   "language": "python",
   "name": "python2"
  },
  "language_info": {
   "codemirror_mode": {
    "name": "ipython",
    "version": 2
   },
   "file_extension": ".py",
   "mimetype": "text/x-python",
   "name": "python",
   "nbconvert_exporter": "python",
   "pygments_lexer": "ipython2",
   "version": "2.7.11"
  }
 },
 "nbformat": 4,
 "nbformat_minor": 0
}
