{
 "cells": [
  {
   "cell_type": "code",
   "execution_count": null,
   "metadata": {
    "collapsed": false
   },
   "outputs": [],
   "source": [
    "%AddDeps org.apache.kafka kafka-clients 0.9.0.0\n",
    "%AddDeps org.apache.kafka kafka_2.10 0.9.0.0"
   ]
  },
  {
   "cell_type": "code",
   "execution_count": null,
   "metadata": {
    "collapsed": false
   },
   "outputs": [],
   "source": [
    "//%addJar file:///Users/yalb/Projects/Github/brufence/jars/kafka-clients-0.9.0.0.jar\n",
    "//%addJar file:///Users/yalb/Projects/Github/brufence/jars/kafka_2.10-0.9.0.0.jar"
   ]
  },
  {
   "cell_type": "code",
   "execution_count": null,
   "metadata": {
    "collapsed": false
   },
   "outputs": [],
   "source": [
    "import java.util.HashMap\n",
    "import scala.io.Source\n",
    "\n",
    "import org.apache.kafka.common._\n",
    "import org.apache.kafka.clients.producer.{KafkaProducer, ProducerConfig, ProducerRecord}\n"
   ]
  },
  {
   "cell_type": "code",
   "execution_count": null,
   "metadata": {
    "collapsed": false
   },
   "outputs": [],
   "source": [
    "val props = new HashMap[String, Object]()\n",
    "props.put(ProducerConfig.BOOTSTRAP_SERVERS_CONFIG, \"127.0.0.1:9092\")\n",
    "props.put(ProducerConfig.VALUE_SERIALIZER_CLASS_CONFIG,\n",
    "      \"org.apache.kafka.common.serialization.StringSerializer\")\n",
    "props.put(ProducerConfig.KEY_SERIALIZER_CLASS_CONFIG,\n",
    "      \"org.apache.kafka.common.serialization.StringSerializer\")\n",
    "\n",
    "val producer = new KafkaProducer[String, String](props)\n"
   ]
  },
  {
   "cell_type": "code",
   "execution_count": null,
   "metadata": {
    "collapsed": false
   },
   "outputs": [],
   "source": [
    "while(true) {\n",
    "      (1 to \"10\".toInt).foreach { messageNum =>\n",
    "        val str = (1 to \"10\".toInt).map(x => scala.util.Random.nextInt(10).toString)\n",
    "          .mkString(\" \")\n",
    "\n",
    "        val message = new ProducerRecord[String, String](\"test\", null, str)\n",
    "        producer.send(message)\n",
    "      }\n",
    "\n",
    "      Thread.sleep(1000)\n",
    "    }\n"
   ]
  },
  {
   "cell_type": "code",
   "execution_count": null,
   "metadata": {
    "collapsed": false
   },
   "outputs": [],
   "source": [
    "val transactions = Source.fromFile(\"20160322stream_subset100.csv\").getLines()\n",
    "\n",
    "while(true) {\n",
    "      (1 to \"1\".toInt).foreach { messageNum =>\n",
    "        val transaction = transactions.next()\n",
    "        val message = new ProducerRecord[String, String](\"test\", null, transaction)\n",
    "        producer.send(message)\n",
    "      }\n",
    "\n",
    "      Thread.sleep(1000)\n",
    "    }\n"
   ]
  },
  {
   "cell_type": "code",
   "execution_count": null,
   "metadata": {
    "collapsed": true
   },
   "outputs": [],
   "source": []
  }
 ],
 "metadata": {
  "kernelspec": {
   "display_name": "Apache Toree - Scala",
   "language": "scala",
   "name": "apache_toree_scala"
  },
  "language_info": {
   "name": "scala"
  }
 },
 "nbformat": 4,
 "nbformat_minor": 0
}
