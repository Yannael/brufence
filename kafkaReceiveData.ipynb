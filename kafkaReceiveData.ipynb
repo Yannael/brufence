{
 "cells": [
  {
   "cell_type": "code",
   "execution_count": null,
   "metadata": {
    "collapsed": false
   },
   "outputs": [],
   "source": [
    "//%AddDeps org.apache.spark spark-streaming_2.10 1.6.1\n",
    "//%AddDeps org.apache.kafka kafka-clients 0.9.0.0\n",
    "//%AddDeps org.apache.spark spark-streaming-kafka_2.10 1.6.1\n",
    "//%AddDeps org.apache.kafka kafka_2.10 0.9.0.0\n",
    "//%AddDeps com.101tec zkclient 0.8\n",
    "//%AddDeps com.yammer.metrics metrics-core 2.2.0"
   ]
  },
  {
   "cell_type": "code",
   "execution_count": null,
   "metadata": {
    "collapsed": false
   },
   "outputs": [],
   "source": [
    "%addJar file:///Users/yalb/Projects/Github/brufence/jars/kafka-clients-0.9.0.0.jar\n",
    "%addJar file:///Users/yalb/Projects/Github/brufence/jars/kafka_2.10-0.9.0.0.jar\n",
    "%addJar file:///Users/yalb/Projects/Github/brufence/jars/metrics-core-2.2.0.jar\n",
    "%addJar file:///Users/yalb/Projects/Github/brufence/jars/spark-streaming_2.10-1.6.1.jar\n",
    "%addJar file:///Users/yalb/Projects/Github/brufence/jars/spark-streaming-kafka_2.10-1.6.1.jar\n",
    "%addJar file:///Users/yalb/Projects/Github/brufence/jars/zkclient-0.8.jar"
   ]
  },
  {
   "cell_type": "code",
   "execution_count": null,
   "metadata": {
    "collapsed": false
   },
   "outputs": [],
   "source": [
    "import java.util.HashMap\n",
    "import java.util.Date\n",
    "\n",
    "import org.apache.spark.SparkConf\n",
    "import org.apache.spark.SparkContext\n",
    "\n",
    "import org.apache.spark.streaming._\n",
    "import org.apache.spark.streaming.kafka._\n",
    "\n",
    "import org.apache.kafka.common._\n",
    "import org.apache.kafka.clients.producer.{KafkaProducer, ProducerConfig, ProducerRecord}\n",
    "\n",
    "import com.yammer.metrics._\n"
   ]
  },
  {
   "cell_type": "code",
   "execution_count": null,
   "metadata": {
    "collapsed": true
   },
   "outputs": [],
   "source": [
    "sc.stop()"
   ]
  },
  {
   "cell_type": "code",
   "execution_count": null,
   "metadata": {
    "collapsed": false
   },
   "outputs": [],
   "source": [
    "ssc.stop()"
   ]
  },
  {
   "cell_type": "code",
   "execution_count": null,
   "metadata": {
    "collapsed": false
   },
   "outputs": [],
   "source": [
    "val sparkConf = new SparkConf().setAppName(\"KafkaWordCount\").set(\"spark.streaming.blockInterval\",\"200\")\n",
    "val sc = new SparkContext(sparkConf)\n",
    "val ssc = new StreamingContext(sc, Seconds(5))\n"
   ]
  },
  {
   "cell_type": "code",
   "execution_count": null,
   "metadata": {
    "collapsed": false
   },
   "outputs": [],
   "source": [
    "val topicMap = \"test\".split(\",\").map((_, \"1\".toInt)).toMap\n",
    "val lines = KafkaUtils.createStream(ssc, \"127.0.0.1:2181\", \"1\",topicMap).map(_._2)"
   ]
  },
  {
   "cell_type": "code",
   "execution_count": null,
   "metadata": {
    "collapsed": false
   },
   "outputs": [],
   "source": [
    "val content=lines.flatMap(_.split(\",(?=([^\\\"]*\\\"[^\\\"]*\\\")*[^\\\"]*$)\", -1))//.map(x => (1L)).reduce(_ + _)\n",
    "val datetime = format.parse(batch.first.apply(7)).getTime\n",
    "content.print()\n"
   ]
  },
  {
   "cell_type": "code",
   "execution_count": null,
   "metadata": {
    "collapsed": false
   },
   "outputs": [],
   "source": [
    "val words = lines.flatMap(_.split(\" \"))\n",
    "val wordCounts = words.map(x => (x, 1L)).reduceByKey(_ + _)\n",
    "wordCounts.print()"
   ]
  },
  {
   "cell_type": "code",
   "execution_count": null,
   "metadata": {
    "collapsed": true
   },
   "outputs": [],
   "source": [
    "ssc.checkpoint(\"checkpoint\")"
   ]
  },
  {
   "cell_type": "code",
   "execution_count": null,
   "metadata": {
    "collapsed": false
   },
   "outputs": [],
   "source": [
    "ssc.start()"
   ]
  },
  {
   "cell_type": "code",
   "execution_count": null,
   "metadata": {
    "collapsed": false
   },
   "outputs": [],
   "source": [
    "ssc.stop()"
   ]
  }
 ],
 "metadata": {
  "kernelspec": {
   "display_name": "Apache Toree - Scala",
   "language": "scala",
   "name": "apache_toree_scala"
  },
  "language_info": {
   "name": "scala"
  }
 },
 "nbformat": 4,
 "nbformat_minor": 0
}
