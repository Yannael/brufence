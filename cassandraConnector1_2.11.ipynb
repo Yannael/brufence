{
 "cells": [
  {
   "cell_type": "code",
   "execution_count": 1,
   "metadata": {
    "collapsed": true
   },
   "outputs": [],
   "source": [
    "import os\n",
    "os.environ['PYSPARK_SUBMIT_ARGS'] = '--packages com.databricks:spark-csv_2.11:1.4.0,com.datastax.spark:spark-cassandra-connector_2.11:1.6.0-M2 pyspark-shell'\n",
    "import time"
   ]
  },
  {
   "cell_type": "code",
   "execution_count": 3,
   "metadata": {
    "collapsed": false
   },
   "outputs": [],
   "source": [
    "from pyspark import SparkContext, SparkConf\n",
    "from pyspark.sql import SQLContext\n",
    "#sc.stop()\n",
    "conf = SparkConf() \\\n",
    "    .setAppName(\"Cassandra connection\") \\\n",
    "    .setMaster(\"local[4]\") \\\n",
    "    .set(\"spark.cassandra.connection.host\", \"localhost\")\n",
    "\n",
    "sc = SparkContext(conf=conf) \n"
   ]
  },
  {
   "cell_type": "code",
   "execution_count": 4,
   "metadata": {
    "collapsed": true
   },
   "outputs": [],
   "source": [
    "sqlContext=SQLContext(sc)"
   ]
  },
  {
   "cell_type": "code",
   "execution_count": 5,
   "metadata": {
    "collapsed": false
   },
   "outputs": [],
   "source": [
    "from pyspark.sql.types import *\n",
    "fields = [StructField(\"card_pan_id\", StringType(), False),\\\n",
    "          StructField(\"term_miduid\", StringType(), False),\\\n",
    "          StructField(\"term_mid\", StringType(), False),\\\n",
    "          StructField(\"term_uid\", StringType(), False),\\\n",
    "          StructField(\"term_mcc\", StringType(), False),\\\n",
    "          StructField(\"term_country\", StringType(), False),\\\n",
    "          StructField(\"tx_amount\", StringType(), False),\\\n",
    "          StructField(\"tx_datetime\", StringType(), False),\\\n",
    "          StructField(\"tx_accepted\", StringType(), False),\\\n",
    "          StructField(\"tx_ecom\", StringType(), False),\\\n",
    "          StructField(\"tx_3d_secure\", StringType(), False),\\\n",
    "          StructField(\"tx_emv\", StringType(), False),\\\n",
    "          StructField(\"age\", StringType(), False),\\\n",
    "          StructField(\"language\", StringType(), False),\\\n",
    "          StructField(\"gender\", StringType(), False),\\\n",
    "          StructField(\"broker\", StringType(), False),\\\n",
    "          StructField(\"card_brand\", StringType(), False),\\\n",
    "          StructField(\"tx_fraud\", StringType(), False),\\\n",
    "        ]\n",
    "schema = StructType(fields)"
   ]
  },
  {
   "cell_type": "code",
   "execution_count": 6,
   "metadata": {
    "collapsed": false
   },
   "outputs": [
    {
     "name": "stdout",
     "output_type": "stream",
     "text": [
      "root\n",
      " |-- card_pan_id: string (nullable = false)\n",
      " |-- term_miduid: string (nullable = false)\n",
      " |-- term_mid: string (nullable = false)\n",
      " |-- term_uid: string (nullable = false)\n",
      " |-- term_mcc: string (nullable = false)\n",
      " |-- term_country: string (nullable = false)\n",
      " |-- tx_amount: string (nullable = false)\n",
      " |-- tx_datetime: string (nullable = false)\n",
      " |-- tx_accepted: string (nullable = false)\n",
      " |-- tx_ecom: string (nullable = false)\n",
      " |-- tx_3d_secure: string (nullable = false)\n",
      " |-- tx_emv: string (nullable = false)\n",
      " |-- age: string (nullable = false)\n",
      " |-- language: string (nullable = false)\n",
      " |-- gender: string (nullable = false)\n",
      " |-- broker: string (nullable = false)\n",
      " |-- card_brand: string (nullable = false)\n",
      " |-- tx_fraud: string (nullable = false)\n",
      "\n"
     ]
    }
   ],
   "source": [
    "csvfile = sqlContext.read.format('com.databricks.spark.csv',).schema(schema).load(\"20160322stream_subset100.csv\")\n",
    "csvfile.registerTempTable(\"txData\");\n",
    "csvfile.printSchema()"
   ]
  },
  {
   "cell_type": "code",
   "execution_count": 7,
   "metadata": {
    "collapsed": false
   },
   "outputs": [
    {
     "name": "stdout",
     "output_type": "stream",
     "text": [
      "0.851726055145\n"
     ]
    }
   ],
   "source": [
    "start = time.time()\n",
    "df=sqlContext.sql(\"select * from txData limit 10000\")\n",
    "df=df.repartition(20)\n",
    "df.cache()\n",
    "end = time.time()\n",
    "print(end - start)\n"
   ]
  },
  {
   "cell_type": "code",
   "execution_count": 9,
   "metadata": {
    "collapsed": false
   },
   "outputs": [
    {
     "name": "stdout",
     "output_type": "stream",
     "text": [
      "6.75174283981\n"
     ]
    }
   ],
   "source": [
    "start = time.time()\n",
    "df.write\\\n",
    "    .format(\"org.apache.spark.sql.cassandra\")\\\n",
    "    .mode('overwrite')\\\n",
    "    .options(table=\"rawdata\", keyspace=\"tx\")\\\n",
    "    .save()\n",
    "end = time.time()\n",
    "print(end - start)\n"
   ]
  },
  {
   "cell_type": "code",
   "execution_count": 10,
   "metadata": {
    "collapsed": true
   },
   "outputs": [],
   "source": [
    "dd=sqlContext.read\\\n",
    "    .format(\"org.apache.spark.sql.cassandra\")\\\n",
    "    .options(table=\"rawdata\", keyspace=\"tx\")\\\n",
    "    .load()\n",
    "dd.registerTempTable(\"txData2\");"
   ]
  },
  {
   "cell_type": "code",
   "execution_count": 11,
   "metadata": {
    "collapsed": false
   },
   "outputs": [
    {
     "data": {
      "text/plain": [
       "10000"
      ]
     },
     "execution_count": 11,
     "metadata": {},
     "output_type": "execute_result"
    }
   ],
   "source": [
    "dd.count()"
   ]
  },
  {
   "cell_type": "code",
   "execution_count": 12,
   "metadata": {
    "collapsed": false
   },
   "outputs": [
    {
     "data": {
      "text/plain": [
       "4670"
      ]
     },
     "execution_count": 12,
     "metadata": {},
     "output_type": "execute_result"
    }
   ],
   "source": [
    "dd2=sqlContext.sql(\"select * from txData2 where card_brand='VIS'\")\n",
    "dd2.count()\n"
   ]
  },
  {
   "cell_type": "code",
   "execution_count": null,
   "metadata": {
    "collapsed": true
   },
   "outputs": [],
   "source": []
  }
 ],
 "metadata": {
  "kernelspec": {
   "display_name": "Python 2",
   "language": "python",
   "name": "python2"
  },
  "language_info": {
   "codemirror_mode": {
    "name": "ipython",
    "version": 2
   },
   "file_extension": ".py",
   "mimetype": "text/x-python",
   "name": "python",
   "nbconvert_exporter": "python",
   "pygments_lexer": "ipython2",
   "version": "2.7.11"
  }
 },
 "nbformat": 4,
 "nbformat_minor": 0
}
